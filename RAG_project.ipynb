{
 "cells": [
  {
   "cell_type": "markdown",
   "id": "7c804317-43b3-4909-a177-53d829a9bad0",
   "metadata": {},
   "source": [
    "## Project Overview\n",
    "\n",
    "This project is structured to provide hands-on experience in implementing a RAG system. Students will work through stages from dataset selection to connection to external artefacts (VectorDB, APIs), gaining a comprehensive understanding of RAG’s components and their integration.\n",
    "\n",
    "### 1. Dataset Selection\n",
    "\n",
    "Select a dataset suitable for your RAG application. Possible options include:\n",
    "- **Learning Material**: A collection of books, slide decks on a specific topic\n",
    "- **News articles**: A dataset containing articles on various topics.\n",
    "- **Product Reviews**: Reviews of products along with follow-up responses.\n",
    "\n",
    "**Bonus:** Consider using Multimodal datasets like text+images or text+audio\n",
    "\n",
    "Check the end of this file for dataset examples\n",
    "\n",
    "### 2. Exploratory Data Analysis (EDA)\n",
    "Perform an EDA on the chosen dataset to understand its structure, content, and the challenges it presents. Document your findings and initial thoughts on how the data can be leveraged in a RAG system.\n",
    "\n",
    "### 3. Embedding and Storing Chunks\n",
    "\n",
    "#### 3.A Embed Your Chunks of Documents\n",
    "- **Objective**: Transform your chunks of documents into embeddings that can be stored in a VectorDB.\n",
    "- **Suggested Tool**: [all-MiniLM-L6-v2](https://huggingface.co/sentence-transformers/all-MiniLM-L6-v2) (for English content).\n",
    "\n",
    "**Bonus** Consider using the Embedding model from OpenAI, just be attentive to costs.\n",
    "\n",
    "#### 3.B Connection to Vector DB\n",
    "- **Objective**: Connect to a vector database to store and retrieve document embeddings.\n",
    "- **Suggested Tool**: [ChromaDB](https://www.trychroma.com/).\n",
    "- **Steps**:\n",
    "  1. Pre-process the dataset to generate embeddings for each document using a suitable model (e.g., Sentence Transformers).\n",
    "  2. Store these embeddings in ChromaDB.\n",
    "  3. Implement retrieval logic to fetch relevant documents based on a query.\n",
    "\n",
    "**Bonus:** Consider using a Cloud service to store your embeddings like Azure AI Search or Weaviate. Be attentive to potential costs.\n",
    "\n",
    "#### 3.C AI Frameworks\n",
    "- **Consider Using**: Frameworks like [LangChain](https://python.langchain.com/docs/integrations/vectorstores/chroma) and [LlamaIndex](https://gpt-index.readthedocs.io/en/latest/examples/vector_stores/ChromaIndexDemo.html) for easier integration.\n",
    "\n",
    "### 4. Connecting to LLM\n",
    "- **Objective**: Connect to a Large Language Model to generate responses based on retrieved documents.\n",
    "- **Suggested Tool**: [OpenAI API](https://platform.openai.com/docs/api-reference/introduction).\n",
    "- **Steps**:\n",
    "  1. Set up access to the OpenAI API or an alternative LLM API.\n",
    "  2. Develop the logic to combine retrieved documents with the query to generate a response.\n",
    "  3. Implement and test the end-to-end RAG pipeline.\n",
    "\n",
    "- **Bonus**: Connect to an API through a cloud service like AzureOpenAI, AWS Bedrock, or Google Vertex AI. Please note that the setup for this will be much more complex and not all might have a free tier model.\n",
    "\n",
    "### 5. Evaluation\n",
    "- **Objective**: Evaluate the performance of your RAG system in two ways.\n",
    "  1. **Yourself**: Test the system multiple times to understand its performance and usability.\n",
    "  2. **LLM as a judge (Bonus)**: Use an LLM as a judge to generate questions and evaluate your RAG's answers.\n",
    "- **Steps**:\n",
    "  1. Create a test set of queries and expected responses.\n",
    "  2. Measure the performance of your RAG system against these queries.\n",
    "  3. Analyze and document the strengths and weaknesses of your system.\n",
    "\n",
    "### 6. Deployment (Bonus)\n",
    "- **Objective**: Deploy the RAG system as a web application or API.\n",
    "- **Tools**: Use frameworks like Flask or FastAPI for the backend and Streamlit for the frontend.\n",
    "- **Steps**:\n",
    "  1. Develop a simple web interface to interact with your RAG system.\n",
    "  2. Deploy the application on a cloud platform such as AWS, GCP, or Heroku.\n"
   ]
  },
  {
   "cell_type": "markdown",
   "id": "89a6786d-7e16-40f6-b3e6-f552726174fc",
   "metadata": {},
   "source": [
    "# EDA"
   ]
  },
  {
   "cell_type": "code",
   "execution_count": 8,
   "id": "a2332114-07e3-40c9-b77a-43e6c331dd6e",
   "metadata": {},
   "outputs": [
    {
     "name": "stdout",
     "output_type": "stream",
     "text": [
      "Total files: 821\n",
      "Sample files: ['19200103_1.txt', '19200110_1.txt', '19200117_1.txt', '19200124_1.txt', '19200131_1.txt']\n"
     ]
    }
   ],
   "source": [
    "import os\n",
    "\n",
    "data_dir = \"elmundo_chunked_en_page1_15years\" \n",
    "files = os.listdir(data_dir)\n",
    "\n",
    "print(f\"Total files: {len(files)}\")\n",
    "print(\"Sample files:\", files[:5])  # Preview first 5 files\n"
   ]
  },
  {
   "cell_type": "markdown",
   "id": "fa4d0590-7fef-47d1-9792-20430a20a546",
   "metadata": {},
   "source": [
    "### File size check"
   ]
  },
  {
   "cell_type": "code",
   "execution_count": 11,
   "id": "c484594d-1f69-43fd-9b86-5c6d759d5168",
   "metadata": {},
   "outputs": [
    {
     "name": "stdout",
     "output_type": "stream",
     "text": [
      "Average file size: 19882.52 bytes\n",
      "Smallest files: [('19280901_1.txt', 6519), ('19280512_1.txt', 7693), ('19290202_1.txt', 8173), ('19281222_1.txt', 8391), ('19280602_1.txt', 8399)]\n",
      "Largest files: [('19471206_1.txt', 33904), ('19470802_1.txt', 33606), ('19471004_1.txt', 33317), ('19461221_1.txt', 32961), ('19470419_1.txt', 32633)]\n"
     ]
    }
   ],
   "source": [
    "file_sizes = {file: os.path.getsize(os.path.join(data_dir, file)) for file in files}\n",
    "print(f\"Average file size: {sum(file_sizes.values()) / len(file_sizes):.2f} bytes\")\n",
    "print(\"Smallest files:\", sorted(file_sizes.items(), key=lambda x: x[1])[:5])\n",
    "print(\"Largest files:\", sorted(file_sizes.items(), key=lambda x: x[1], reverse=True)[:5])"
   ]
  },
  {
   "cell_type": "markdown",
   "id": "485336cf-0f22-49f7-84f2-756b786b5230",
   "metadata": {},
   "source": [
    "### Sampling Data"
   ]
  },
  {
   "cell_type": "code",
   "execution_count": 14,
   "id": "ebad0103-4c60-43ba-95bf-60b8c4f0d604",
   "metadata": {},
   "outputs": [
    {
     "name": "stdout",
     "output_type": "stream",
     "text": [
      "Contents of 19200103_1.txt:\n",
      " ELWNDO\n",
      "\n",
      "8 pages 3 ctvs. Semester, $4.00 One year, $7.50\n",
      "\n",
      "Offices: Salvador Brau. 81 Tel. 833 P. O. Box 345\n",
      "\n",
      "NEWSPAPER OF THE TANGLE.\n",
      "\n",
      "EXCEPT SUNDAYS\n",
      "\n",
      "AKOU \"S^=2==E======== == ^= ^z =====i======= ^ ======\n",
      "\n",
      "SAN JUAN, PUERTO RICO. - 71 i. 1- ■- ■- r- - _¡\n",
      "\n",
      "SATURDAY, JANUARY 3, 1920. r\n",
      "\n",
      "i NUMBER 271.\n",
      "\n",
      "ENTERED AS SECOND CLASS MATTER, FEBRUARY 21, 1919. AT THE POST OFFICE AT SAN JEAN. PORTO RICO. UNDER THE ACT OF MARCH 3, 1879.\n",
      "\n",
      "Plot to assassinate the Prince of Serbia. 192,000 tons in dykes to be delivered by the Germans.\n",
      "\n",
      "Peace already signed, the American site Hadarai in France.\n",
      "\n",
      "! Excursion, banquet and ball in honor of the Congressmen.\n",
      "\n",
      "A great fire ravages ios barracks at Nantes '>< filed with Che Port-J a-ter a* f-an Juan. P R. cn Jan. 2nd Mis, । . íoimwmg cablearas requtrZl t,.t Sts P. I I I 2 B P L 4 Beg. 1911, (P?r French Cable) v .^ ¡ NANTES. 2.- A most violent n ash, which could not be quenched with !The French government had recently acquired the canned food supplies for the North American army in France, which were destroyed by a violent fire, which could not be put out as quickly as the troops had tried to do so. THE TEUTONS TO DELIVER 192,000 TONS LONDON. 2.-From the day on which the Treaty is put into effect, the Berlin Government is to deliver 192,000 tons in floating docks which it has undertaken to surrender without delay, as indemnity for the fleet sunk by Admiral Reuter at Scapa Flow (England). The Supreme Council also decided that any expenses incurred by the troops of the occupation in the towns subject to plebiscite should not be borne by any of the powers participating in the occupation, but by the power to which the disputed territory belongs. 1 The Council approved, likewise! the net to be sent to Switzerland! replying to that which was given by that country in response to the application submitted by it for admission to the \"SDfl cacy of Nations.\" 1 ANARCHY IN BULGARIA I PARIS, 2.-The newspaper \"LO Petit Parisién\" declares that ea Geneva has received a telegraphic inl 'orme from Sofia in which it is assured that the situation in Bulgaria is extremely . serious and that the troops are mercilessly ful -ilating the revolters, as the only means of restoring order. I SUSPENSION OF TARIFFS PARIS. 2.-The Chamber of Deputies approved by 452 votes to 114 the bill temporarily repealing the tariffs imposed on railroads. 4\n",
      "\n",
      "THE \"WORLD'S LARGEST STADIUM\n",
      "\n"
     ]
    }
   ],
   "source": [
    "def read_text_file(file_path, num_lines=15):\n",
    "    with open(file_path, \"r\", encoding=\"utf-8\") as f:\n",
    "        return \"\\n\".join([next(f) for _ in range(num_lines)])\n",
    "\n",
    "sample_file = os.path.join(data_dir, files[0])\n",
    "print(f\"Contents of {files[0]}:\\n\", read_text_file(sample_file))"
   ]
  },
  {
   "cell_type": "markdown",
   "id": "8560dbd7-57c9-4786-9eee-c33f5a3b81fa",
   "metadata": {},
   "source": [
    "### Text Length"
   ]
  },
  {
   "cell_type": "code",
   "execution_count": 17,
   "id": "a51804ba-5b91-4fd2-a7b9-621c5d8c5c16",
   "metadata": {},
   "outputs": [
    {
     "name": "stdout",
     "output_type": "stream",
     "text": [
      "Average words per file: 3394.37\n",
      "Min words: 1323, Max words: 5739\n"
     ]
    }
   ],
   "source": [
    "import numpy as np\n",
    "\n",
    "file_lengths = []\n",
    "\n",
    "for file in files:\n",
    "    with open(os.path.join(data_dir, file), \"r\", encoding=\"utf-8\") as f:\n",
    "        text = f.read()\n",
    "        file_lengths.append(len(text.split()))  # Count words\n",
    "\n",
    "print(f\"Average words per file: {np.mean(file_lengths):.2f}\")\n",
    "print(f\"Min words: {np.min(file_lengths)}, Max words: {np.max(file_lengths)}\")"
   ]
  },
  {
   "cell_type": "markdown",
   "id": "46730472-255c-4d4a-919f-2da25289e41b",
   "metadata": {},
   "source": [
    "### Token and Vocabulary analysis"
   ]
  },
  {
   "cell_type": "code",
   "execution_count": 20,
   "id": "1ac42549-408c-4ab6-baa9-77674564b284",
   "metadata": {},
   "outputs": [
    {
     "name": "stdout",
     "output_type": "stream",
     "text": [
      "Most common words: [('the', 24692), ('of', 13083), ('to', 7748), ('and', 6976), ('in', 6303), ('a', 4177), ('that', 3771), ('i', 3174), ('for', 2470), ('is', 2327)]\n"
     ]
    }
   ],
   "source": [
    "from collections import Counter\n",
    "\n",
    "word_counts = Counter()\n",
    "\n",
    "for file in files[:100]:  # Limit to first 100 files for performance\n",
    "    with open(os.path.join(data_dir, file), \"r\", encoding=\"utf-8\") as f:\n",
    "        text = f.read().lower().split()\n",
    "        word_counts.update(text)\n",
    "\n",
    "print(\"Most common words:\", word_counts.most_common(10))"
   ]
  },
  {
   "cell_type": "markdown",
   "id": "f33e79ec-f1d9-4ed6-b4e3-5818e10fd0dc",
   "metadata": {},
   "source": [
    "### Plot words"
   ]
  },
  {
   "cell_type": "code",
   "execution_count": 23,
   "id": "5206c0d9-0c1c-45e2-b0b8-f4ac0c3edcf7",
   "metadata": {},
   "outputs": [
    {
     "data": {
      "image/png": "[encoded data removed]",
      "text/plain": [
       "<Figure size 640x480 with 1 Axes>"
      ]
     },
     "metadata": {},
     "output_type": "display_data"
    }
   ],
   "source": [
    "import matplotlib.pyplot as plt\n",
    "\n",
    "plt.hist(file_lengths, bins=50, edgecolor=\"black\")\n",
    "plt.xlabel(\"Word Count per File\")\n",
    "plt.ylabel(\"Number of Files\")\n",
    "plt.title(\"Distribution of Document Lengths\")\n",
    "plt.show()"
   ]
  },
  {
   "cell_type": "markdown",
   "id": "ec423337-1644-4f77-9d55-d4c70439edca",
   "metadata": {},
   "source": [
    "# 2. Embedding"
   ]
  },
  {
   "cell_type": "code",
   "execution_count": 26,
   "id": "eef69a00-53cd-4b39-9e7e-22fe83f33656",
   "metadata": {},
   "outputs": [
    {
     "name": "stdout",
     "output_type": "stream",
     "text": [
      "WARNING:tensorflow:From C:\\Users\\dylan\\anaconda3\\Lib\\site-packages\\tf_keras\\src\\losses.py:2976: The name tf.losses.sparse_softmax_cross_entropy is deprecated. Please use tf.compat.v1.losses.sparse_softmax_cross_entropy instead.\n",
      "\n"
     ]
    }
   ],
   "source": [
    "from sentence_transformers import SentenceTransformer\n",
    "\n",
    "# Load the embedding model\n",
    "model = SentenceTransformer(\"sentence-transformers/all-MiniLM-L6-v2\")"
   ]
  },
  {
   "cell_type": "code",
   "execution_count": 28,
   "id": "5e0a8837-7f41-45b6-b7e0-2a4791ca62e4",
   "metadata": {},
   "outputs": [
    {
     "name": "stdout",
     "output_type": "stream",
     "text": [
      "Total Chunks: 43445\n"
     ]
    }
   ],
   "source": [
    "from langchain.text_splitter import RecursiveCharacterTextSplitter\n",
    "\n",
    "# Define the directory containing text files\n",
    "data_dir = \"elmundo_chunked_en_page1_15years\"\n",
    "\n",
    "# Read all text files and store content\n",
    "documents = []\n",
    "for file in os.listdir(data_dir):\n",
    "    if file.endswith(\".txt\"):  # Ensure we only read text files\n",
    "        with open(os.path.join(data_dir, file), \"r\", encoding=\"utf-8\") as f:\n",
    "            documents.append(f.read())\n",
    "\n",
    "# Split documents into chunks\n",
    "text_splitter = RecursiveCharacterTextSplitter(chunk_size=500, chunk_overlap=50)\n",
    "chunks = text_splitter.create_documents(documents)\n",
    "\n",
    "print(f\"Total Chunks: {len(chunks)}\")"
   ]
  },
  {
   "cell_type": "code",
   "execution_count": 30,
   "id": "f9be672d-5526-4446-8add-15784bab387d",
   "metadata": {},
   "outputs": [
    {
     "name": "stdout",
     "output_type": "stream",
     "text": [
      "Batch #: 1 complete.\n",
      "Batch #: 2 complete.\n",
      "Batch #: 3 complete.\n",
      "Batch #: 4 complete.\n",
      "Batch #: 5 complete.\n",
      "Batch #: 6 complete.\n",
      "Batch #: 7 complete.\n",
      "Batch #: 8 complete.\n",
      "Batch #: 9 complete.\n",
      "Batch #: 10 complete.\n",
      "Batch #: 11 complete.\n",
      "Batch #: 12 complete.\n",
      "Batch #: 13 complete.\n",
      "Batch #: 14 complete.\n",
      "Batch #: 15 complete.\n",
      "Batch #: 16 complete.\n",
      "Batch #: 17 complete.\n",
      "Batch #: 18 complete.\n",
      "Batch #: 19 complete.\n",
      "Batch #: 20 complete.\n",
      "Batch #: 21 complete.\n",
      "Batch #: 22 complete.\n",
      "Batch #: 23 complete.\n",
      "Batch #: 24 complete.\n",
      "Batch #: 25 complete.\n",
      "Batch #: 26 complete.\n",
      "Batch #: 27 complete.\n",
      "Batch #: 28 complete.\n",
      "Batch #: 29 complete.\n",
      "Batch #: 30 complete.\n",
      "Batch #: 31 complete.\n",
      "Batch #: 32 complete.\n",
      "Batch #: 33 complete.\n",
      "Batch #: 34 complete.\n",
      "Batch #: 35 complete.\n",
      "Batch #: 36 complete.\n",
      "Batch #: 37 complete.\n",
      "Batch #: 38 complete.\n",
      "Batch #: 39 complete.\n",
      "Batch #: 40 complete.\n",
      "Batch #: 41 complete.\n",
      "Batch #: 42 complete.\n",
      "Batch #: 43 complete.\n",
      "Batch #: 44 complete.\n",
      "Batch #: 45 complete.\n",
      "Batch #: 46 complete.\n",
      "Batch #: 47 complete.\n",
      "Batch #: 48 complete.\n",
      "Batch #: 49 complete.\n",
      "Batch #: 50 complete.\n",
      "Batch #: 51 complete.\n",
      "Batch #: 52 complete.\n",
      "Batch #: 53 complete.\n",
      "Batch #: 54 complete.\n",
      "Batch #: 55 complete.\n",
      "Batch #: 56 complete.\n",
      "Batch #: 57 complete.\n",
      "Batch #: 58 complete.\n",
      "Batch #: 59 complete.\n",
      "Batch #: 60 complete.\n",
      "Batch #: 61 complete.\n",
      "Batch #: 62 complete.\n",
      "Batch #: 63 complete.\n",
      "Batch #: 64 complete.\n",
      "Batch #: 65 complete.\n",
      "Batch #: 66 complete.\n",
      "Batch #: 67 complete.\n",
      "Batch #: 68 complete.\n",
      "Batch #: 69 complete.\n",
      "Batch #: 70 complete.\n",
      "Batch #: 71 complete.\n",
      "Batch #: 72 complete.\n",
      "Batch #: 73 complete.\n",
      "Batch #: 74 complete.\n",
      "Batch #: 75 complete.\n",
      "Batch #: 76 complete.\n",
      "Batch #: 77 complete.\n",
      "Batch #: 78 complete.\n",
      "Batch #: 79 complete.\n",
      "Batch #: 80 complete.\n",
      "Batch #: 81 complete.\n",
      "Batch #: 82 complete.\n",
      "Batch #: 83 complete.\n",
      "Batch #: 84 complete.\n",
      "Batch #: 85 complete.\n",
      "Batch #: 86 complete.\n",
      "Batch #: 87 complete.\n",
      "Batch #: 88 complete.\n",
      "Batch #: 89 complete.\n",
      "Batch #: 90 complete.\n",
      "Batch #: 91 complete.\n",
      "Batch #: 92 complete.\n",
      "Batch #: 93 complete.\n",
      "Batch #: 94 complete.\n",
      "Batch #: 95 complete.\n",
      "Batch #: 96 complete.\n",
      "Batch #: 97 complete.\n",
      "Batch #: 98 complete.\n",
      "Batch #: 99 complete.\n",
      "Batch #: 100 complete.\n",
      "Batch #: 101 complete.\n",
      "Batch #: 102 complete.\n",
      "Batch #: 103 complete.\n",
      "Batch #: 104 complete.\n",
      "Batch #: 105 complete.\n",
      "Batch #: 106 complete.\n",
      "Batch #: 107 complete.\n",
      "Batch #: 108 complete.\n",
      "Batch #: 109 complete.\n",
      "Batch #: 110 complete.\n",
      "Batch #: 111 complete.\n",
      "Batch #: 112 complete.\n",
      "Batch #: 113 complete.\n",
      "Batch #: 114 complete.\n",
      "Batch #: 115 complete.\n",
      "Batch #: 116 complete.\n",
      "Batch #: 117 complete.\n",
      "Batch #: 118 complete.\n",
      "Batch #: 119 complete.\n",
      "Batch #: 120 complete.\n",
      "Batch #: 121 complete.\n",
      "Batch #: 122 complete.\n",
      "Batch #: 123 complete.\n",
      "Batch #: 124 complete.\n",
      "Batch #: 125 complete.\n",
      "Batch #: 126 complete.\n",
      "Batch #: 127 complete.\n",
      "Batch #: 128 complete.\n",
      "Batch #: 129 complete.\n",
      "Batch #: 130 complete.\n",
      "Batch #: 131 complete.\n",
      "Batch #: 132 complete.\n",
      "Batch #: 133 complete.\n",
      "Batch #: 134 complete.\n",
      "Batch #: 135 complete.\n",
      "Batch #: 136 complete.\n",
      "Batch #: 137 complete.\n",
      "Batch #: 138 complete.\n",
      "Batch #: 139 complete.\n",
      "Batch #: 140 complete.\n",
      "Batch #: 141 complete.\n",
      "Batch #: 142 complete.\n",
      "Batch #: 143 complete.\n",
      "Batch #: 144 complete.\n",
      "Batch #: 145 complete.\n",
      "Batch #: 146 complete.\n",
      "Batch #: 147 complete.\n",
      "Batch #: 148 complete.\n",
      "Batch #: 149 complete.\n",
      "Batch #: 150 complete.\n",
      "Batch #: 151 complete.\n",
      "Batch #: 152 complete.\n",
      "Batch #: 153 complete.\n",
      "Batch #: 154 complete.\n",
      "Batch #: 155 complete.\n",
      "Batch #: 156 complete.\n",
      "Batch #: 157 complete.\n",
      "Batch #: 158 complete.\n",
      "Batch #: 159 complete.\n",
      "Batch #: 160 complete.\n",
      "Batch #: 161 complete.\n",
      "Batch #: 162 complete.\n",
      "Batch #: 163 complete.\n",
      "Batch #: 164 complete.\n",
      "Batch #: 165 complete.\n",
      "Batch #: 166 complete.\n",
      "Batch #: 167 complete.\n",
      "Batch #: 168 complete.\n",
      "Batch #: 169 complete.\n",
      "Batch #: 170 complete.\n",
      "Embedding complete!\n"
     ]
    }
   ],
   "source": [
    "import numpy as np\n",
    "\n",
    "batch_size = 256  # Adjust based on your system's memory\n",
    "embeddings = []\n",
    "count = 0\n",
    "for i in range(0, len(chunks), batch_size):\n",
    "    batch = [chunk.page_content for chunk in chunks[i:i+batch_size]]\n",
    "    batch_embeddings = model.encode(batch)  # Encode batch at once\n",
    "    embeddings.extend(batch_embeddings)\n",
    "    count += 1 \n",
    "    print(f'Batch #: {count} complete.')\n",
    "\n",
    "print(\"Embedding complete!\")"
   ]
  },
  {
   "cell_type": "markdown",
   "id": "7d007be2-6c4b-402b-857d-699782459017",
   "metadata": {},
   "source": [
    "# Vectors"
   ]
  },
  {
   "cell_type": "code",
   "execution_count": 32,
   "id": "006b62e6-346c-400a-a479-3a3b62764cb3",
   "metadata": {},
   "outputs": [
    {
     "name": "stdout",
     "output_type": "stream",
     "text": [
      "✅ Stored batch 1 with 40000 embeddings.\n",
      "✅ Stored batch 2 with 3445 embeddings.\n",
      "Successfully stored 43445 embeddings in ChromaDB.\n"
     ]
    }
   ],
   "source": [
    "import chromadb\n",
    "\n",
    "# Initialize ChromaDB\n",
    "chroma_client = chromadb.PersistentClient(path=\"./chroma_db\")\n",
    "\n",
    "# Create or get a collection\n",
    "collection = chroma_client.get_or_create_collection(name=\"rag_documents\")\n",
    "\n",
    "# Ensure data consistency\n",
    "assert len(chunks) == len(embeddings), \"Mismatch between chunks and embeddings!\"\n",
    "\n",
    "# Define batch size (adjust based on limit)\n",
    "MAX_BATCH_SIZE = 40_000  \n",
    "\n",
    "# Split data into batches\n",
    "for i in range(0, len(chunks), MAX_BATCH_SIZE):\n",
    "    batch_ids = [f\"chunk_{j}\" for j in range(i, min(i + MAX_BATCH_SIZE, len(chunks)))]\n",
    "    batch_docs = [chunk.page_content for chunk in chunks[i:i + MAX_BATCH_SIZE]]\n",
    "    batch_embs = [embedding.tolist() for embedding in embeddings[i:i + MAX_BATCH_SIZE]]\n",
    "\n",
    "    # Insert batch into ChromaDB\n",
    "    collection.add(ids=batch_ids, documents=batch_docs, embeddings=batch_embs)\n",
    "\n",
    "    print(f\"✅ Stored batch {i // MAX_BATCH_SIZE + 1} with {len(batch_ids)} embeddings.\")\n",
    "\n",
    "print(f\"Successfully stored {len(chunks)} embeddings in ChromaDB.\")"
   ]
  },
  {
   "cell_type": "markdown",
   "id": "56187e11-b555-429a-8adc-de93aaabe9a5",
   "metadata": {},
   "source": [
    "# Retrieval based on query"
   ]
  },
  {
   "cell_type": "code",
   "execution_count": 34,
   "id": "a110a329-4d4b-46c1-8e0b-3b8f0c29f70d",
   "metadata": {},
   "outputs": [
    {
     "name": "stdout",
     "output_type": "stream",
     "text": [
      "['Alliance between France and Great Britain', 'who will lead France along the paths of order and freedom.', 'PARIS, May 20.-The situation between the governments of France and England is becoming more and more tense. The latest events highlight the domination exercised by the English with their diplomacy abroad, as well as their eternal predominance in European politics. Not yet satisfied with their security protected by the ocean, they now request the evacuation of Dusseldorf, Ruhrort, Duisbourg, and more than all that, the abolition of the customs cordon imposed by the French Republic on Germany.', '(By Cabio French) i PARIS, April 23.-A representative i of the newspaper \"Le Matin** at the San Remo coni\\' ferences ba been able to ente \\' rse of a plan conceived by the je| fes of the governments of Ingla\\'^errr. and i Italy. XJoyd George and Uitti, for the purpose of having Germany invited to take part in the sessions held there. This news has caused a deep sensation in Europe and great indignation in French circles. The representative of Le Matin** adds that it is a question of inviting the', \"| SATURDAY, JUNE 26, 1920.\\n'France and Germany must unite^/ alleges Von Simons.\"]\n"
     ]
    }
   ],
   "source": [
    "# Function to generate query embeddings\n",
    "def get_query_embedding(query):\n",
    "    \"\"\"Generates the embedding for the query text.\"\"\"\n",
    "    return model.encode([query])[0]  # 'encode' expects a list, so we wrap query in a list\n",
    "\n",
    "# Query the collection for relevant documents\n",
    "query = \"France\"\n",
    "query_embedding = get_query_embedding(query)  # Generate embedding for the query\n",
    "\n",
    "# Search for the most similar documents in ChromaDB\n",
    "results = collection.query(query_embeddings=[query_embedding.tolist()], n_results=5)\n",
    "\n",
    "# Display the results\n",
    "for result in results['documents']:\n",
    "    print(result)"
   ]
  },
  {
   "cell_type": "markdown",
   "id": "3b52f486-a87c-4694-aa15-0655076bc1ba",
   "metadata": {},
   "source": [
    "# Connect to LLM"
   ]
  },
  {
   "cell_type": "code",
   "execution_count": 4,
   "id": "51e9361c-60ab-4245-b14a-3b2b90761619",
   "metadata": {},
   "outputs": [],
   "source": [
    "import openai\n",
    "# Read OpenAI API key from file\n",
    "with open(\"API_Key.txt\", \"r\") as file:\n",
    "    openai_api_key = file.read().strip()  # Remove extra spaces/newlines"
   ]
  },
  {
   "cell_type": "code",
   "execution_count": 6,
   "id": "dbe6cfeb-c2df-4877-9f62-9028cbcfbab8",
   "metadata": {},
   "outputs": [],
   "source": [
    "def combine_query_with_documents(query, documents):\n",
    "    \"\"\"Combine the query with retrieved documents to prepare a prompt.\"\"\"\n",
    "    prompt = f\"Question: {query}\\n\\n\"\n",
    "    prompt += \"Relevant Documents:\\n\"\n",
    "    for idx, doc in enumerate(documents):\n",
    "        prompt += f\"{idx + 1}. {doc}\\n\"\n",
    "    prompt += \"\\nAnswer the question based on the above documents.\"\n",
    "    return prompt"
   ]
  },
  {
   "cell_type": "code",
   "execution_count": 8,
   "id": "12b1fc4e-017e-4ef8-a414-7bf997d7982f",
   "metadata": {},
   "outputs": [],
   "source": [
    "def generate_response_from_openai(prompt):\n",
    "    \"\"\"Generate a response from OpenAI using the combined query and documents.\"\"\"\n",
    "    response = openai.Completion.create(\n",
    "        model=\"gpt-3.5-turbo\",  # You can use \"gpt-4\" or another model if desired\n",
    "        prompt=prompt,\n",
    "        max_tokens=200,  # Adjust based on the desired response length\n",
    "        temperature=0.7,  # Controls creativity, between 0 and 1\n",
    "        n=1  # Number of responses to generate\n",
    "    )\n",
    "    return response.choices[0].text.strip()"
   ]
  },
  {
   "cell_type": "code",
   "execution_count": 10,
   "id": "76e11765-5e0c-45e7-baf7-f63fdcb84059",
   "metadata": {},
   "outputs": [
    {
     "ename": "NameError",
     "evalue": "name 'get_query_embedding' is not defined",
     "output_type": "error",
     "traceback": [
      "\u001b[1;31m---------------------------------------------------------------------------\u001b[0m",
      "\u001b[1;31mNameError\u001b[0m                                 Traceback (most recent call last)",
      "Cell \u001b[1;32mIn[10], line 18\u001b[0m\n\u001b[0;32m     16\u001b[0m \u001b[38;5;66;03m# Example query\u001b[39;00m\n\u001b[0;32m     17\u001b[0m query \u001b[38;5;241m=\u001b[39m \u001b[38;5;124m\"\u001b[39m\u001b[38;5;124mWhy is France so influential in 1919?\u001b[39m\u001b[38;5;124m\"\u001b[39m\n\u001b[1;32m---> 18\u001b[0m response \u001b[38;5;241m=\u001b[39m run_rag_pipeline(query)\n\u001b[0;32m     19\u001b[0m \u001b[38;5;28mprint\u001b[39m(\u001b[38;5;124m\"\u001b[39m\u001b[38;5;124mGenerated Response:\u001b[39m\u001b[38;5;124m\"\u001b[39m, response)\n",
      "Cell \u001b[1;32mIn[10], line 4\u001b[0m, in \u001b[0;36mrun_rag_pipeline\u001b[1;34m(query)\u001b[0m\n\u001b[0;32m      2\u001b[0m \u001b[38;5;28;01mdef\u001b[39;00m \u001b[38;5;21mrun_rag_pipeline\u001b[39m(query):\n\u001b[0;32m      3\u001b[0m     \u001b[38;5;66;03m# 1. Retrieve relevant documents from ChromaDB\u001b[39;00m\n\u001b[1;32m----> 4\u001b[0m     query_embedding \u001b[38;5;241m=\u001b[39m get_query_embedding(query)\n\u001b[0;32m      5\u001b[0m     results \u001b[38;5;241m=\u001b[39m collection\u001b[38;5;241m.\u001b[39mquery(query_embeddings\u001b[38;5;241m=\u001b[39m[query_embedding\u001b[38;5;241m.\u001b[39mtolist()], n_results\u001b[38;5;241m=\u001b[39m\u001b[38;5;241m5\u001b[39m)\n\u001b[0;32m      6\u001b[0m     retrieved_documents \u001b[38;5;241m=\u001b[39m results[\u001b[38;5;124m'\u001b[39m\u001b[38;5;124mdocuments\u001b[39m\u001b[38;5;124m'\u001b[39m]\n",
      "\u001b[1;31mNameError\u001b[0m: name 'get_query_embedding' is not defined"
     ]
    }
   ],
   "source": [
    "# Function to integrate everything: retrieval + query + LLM response\n",
    "def run_rag_pipeline(query):\n",
    "    # 1. Retrieve relevant documents from ChromaDB\n",
    "    query_embedding = get_query_embedding(query)\n",
    "    results = collection.query(query_embeddings=[query_embedding.tolist()], n_results=5)\n",
    "    retrieved_documents = results['documents']\n",
    "    \n",
    "    # 2. Combine the query with retrieved documents\n",
    "    prompt = combine_query_with_documents(query, retrieved_documents)\n",
    "    \n",
    "    # 3. Generate response from OpenAI LLM\n",
    "    response = generate_response_from_openai(prompt)\n",
    "    \n",
    "    return response\n",
    "\n",
    "# Example query\n",
    "query = \"Why is France so influential in 1919?\"\n",
    "response = run_rag_pipeline(query)\n",
    "print(\"Generated Response:\", response)"
   ]
  },
  {
   "cell_type": "code",
   "execution_count": null,
   "id": "d23ac5a2-429a-42a2-8cc4-7751b535ef1f",
   "metadata": {},
   "outputs": [],
   "source": []
  }
 ],
 "metadata": {
  "kernelspec": {
   "display_name": "Python [conda env:base] *",
   "language": "python",
   "name": "conda-base-py"
  },
  "language_info": {
   "codemirror_mode": {
    "name": "ipython",
    "version": 3
   },
   "file_extension": ".py",
   "mimetype": "text/x-python",
   "name": "python",
   "nbconvert_exporter": "python",
   "pygments_lexer": "ipython3",
   "version": "3.12.7"
  }
 },
 "nbformat": 4,
 "nbformat_minor": 5
}
